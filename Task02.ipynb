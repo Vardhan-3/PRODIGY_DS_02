{
  "cells": [
    {
      "cell_type": "markdown",
      "metadata": {
        "id": "view-in-github",
        "colab_type": "text"
      },
      "source": [
        "<a href=\"https://colab.research.google.com/github/Vardhan-3/PRODIGY_DS_02/blob/main/Task02.ipynb\" target=\"_parent\"><img src=\"https://colab.research.google.com/assets/colab-badge.svg\" alt=\"Open In Colab\"/></a>"
      ]
    },
    {
      "cell_type": "code",
      "source": [
        "from google.colab import files\n",
        "uploaded = files.upload()"
      ],
      "metadata": {
        "colab": {
          "base_uri": "https://localhost:8080/",
          "height": 73
        },
        "id": "prgmCaGaSadS",
        "outputId": "8cafba9e-8a2f-45dd-e3ff-7ab1954ac819"
      },
      "execution_count": null,
      "outputs": [
        {
          "output_type": "display_data",
          "data": {
            "text/plain": [
              "<IPython.core.display.HTML object>"
            ],
            "text/html": [
              "\n",
              "     <input type=\"file\" id=\"files-4cd85bf6-93b7-4107-ab0e-698eac5d625e\" name=\"files[]\" multiple disabled\n",
              "        style=\"border:none\" />\n",
              "     <output id=\"result-4cd85bf6-93b7-4107-ab0e-698eac5d625e\">\n",
              "      Upload widget is only available when the cell has been executed in the\n",
              "      current browser session. Please rerun this cell to enable.\n",
              "      </output>\n",
              "      <script>// Copyright 2017 Google LLC\n",
              "//\n",
              "// Licensed under the Apache License, Version 2.0 (the \"License\");\n",
              "// you may not use this file except in compliance with the License.\n",
              "// You may obtain a copy of the License at\n",
              "//\n",
              "//      http://www.apache.org/licenses/LICENSE-2.0\n",
              "//\n",
              "// Unless required by applicable law or agreed to in writing, software\n",
              "// distributed under the License is distributed on an \"AS IS\" BASIS,\n",
              "// WITHOUT WARRANTIES OR CONDITIONS OF ANY KIND, either express or implied.\n",
              "// See the License for the specific language governing permissions and\n",
              "// limitations under the License.\n",
              "\n",
              "/**\n",
              " * @fileoverview Helpers for google.colab Python module.\n",
              " */\n",
              "(function(scope) {\n",
              "function span(text, styleAttributes = {}) {\n",
              "  const element = document.createElement('span');\n",
              "  element.textContent = text;\n",
              "  for (const key of Object.keys(styleAttributes)) {\n",
              "    element.style[key] = styleAttributes[key];\n",
              "  }\n",
              "  return element;\n",
              "}\n",
              "\n",
              "// Max number of bytes which will be uploaded at a time.\n",
              "const MAX_PAYLOAD_SIZE = 100 * 1024;\n",
              "\n",
              "function _uploadFiles(inputId, outputId) {\n",
              "  const steps = uploadFilesStep(inputId, outputId);\n",
              "  const outputElement = document.getElementById(outputId);\n",
              "  // Cache steps on the outputElement to make it available for the next call\n",
              "  // to uploadFilesContinue from Python.\n",
              "  outputElement.steps = steps;\n",
              "\n",
              "  return _uploadFilesContinue(outputId);\n",
              "}\n",
              "\n",
              "// This is roughly an async generator (not supported in the browser yet),\n",
              "// where there are multiple asynchronous steps and the Python side is going\n",
              "// to poll for completion of each step.\n",
              "// This uses a Promise to block the python side on completion of each step,\n",
              "// then passes the result of the previous step as the input to the next step.\n",
              "function _uploadFilesContinue(outputId) {\n",
              "  const outputElement = document.getElementById(outputId);\n",
              "  const steps = outputElement.steps;\n",
              "\n",
              "  const next = steps.next(outputElement.lastPromiseValue);\n",
              "  return Promise.resolve(next.value.promise).then((value) => {\n",
              "    // Cache the last promise value to make it available to the next\n",
              "    // step of the generator.\n",
              "    outputElement.lastPromiseValue = value;\n",
              "    return next.value.response;\n",
              "  });\n",
              "}\n",
              "\n",
              "/**\n",
              " * Generator function which is called between each async step of the upload\n",
              " * process.\n",
              " * @param {string} inputId Element ID of the input file picker element.\n",
              " * @param {string} outputId Element ID of the output display.\n",
              " * @return {!Iterable<!Object>} Iterable of next steps.\n",
              " */\n",
              "function* uploadFilesStep(inputId, outputId) {\n",
              "  const inputElement = document.getElementById(inputId);\n",
              "  inputElement.disabled = false;\n",
              "\n",
              "  const outputElement = document.getElementById(outputId);\n",
              "  outputElement.innerHTML = '';\n",
              "\n",
              "  const pickedPromise = new Promise((resolve) => {\n",
              "    inputElement.addEventListener('change', (e) => {\n",
              "      resolve(e.target.files);\n",
              "    });\n",
              "  });\n",
              "\n",
              "  const cancel = document.createElement('button');\n",
              "  inputElement.parentElement.appendChild(cancel);\n",
              "  cancel.textContent = 'Cancel upload';\n",
              "  const cancelPromise = new Promise((resolve) => {\n",
              "    cancel.onclick = () => {\n",
              "      resolve(null);\n",
              "    };\n",
              "  });\n",
              "\n",
              "  // Wait for the user to pick the files.\n",
              "  const files = yield {\n",
              "    promise: Promise.race([pickedPromise, cancelPromise]),\n",
              "    response: {\n",
              "      action: 'starting',\n",
              "    }\n",
              "  };\n",
              "\n",
              "  cancel.remove();\n",
              "\n",
              "  // Disable the input element since further picks are not allowed.\n",
              "  inputElement.disabled = true;\n",
              "\n",
              "  if (!files) {\n",
              "    return {\n",
              "      response: {\n",
              "        action: 'complete',\n",
              "      }\n",
              "    };\n",
              "  }\n",
              "\n",
              "  for (const file of files) {\n",
              "    const li = document.createElement('li');\n",
              "    li.append(span(file.name, {fontWeight: 'bold'}));\n",
              "    li.append(span(\n",
              "        `(${file.type || 'n/a'}) - ${file.size} bytes, ` +\n",
              "        `last modified: ${\n",
              "            file.lastModifiedDate ? file.lastModifiedDate.toLocaleDateString() :\n",
              "                                    'n/a'} - `));\n",
              "    const percent = span('0% done');\n",
              "    li.appendChild(percent);\n",
              "\n",
              "    outputElement.appendChild(li);\n",
              "\n",
              "    const fileDataPromise = new Promise((resolve) => {\n",
              "      const reader = new FileReader();\n",
              "      reader.onload = (e) => {\n",
              "        resolve(e.target.result);\n",
              "      };\n",
              "      reader.readAsArrayBuffer(file);\n",
              "    });\n",
              "    // Wait for the data to be ready.\n",
              "    let fileData = yield {\n",
              "      promise: fileDataPromise,\n",
              "      response: {\n",
              "        action: 'continue',\n",
              "      }\n",
              "    };\n",
              "\n",
              "    // Use a chunked sending to avoid message size limits. See b/62115660.\n",
              "    let position = 0;\n",
              "    do {\n",
              "      const length = Math.min(fileData.byteLength - position, MAX_PAYLOAD_SIZE);\n",
              "      const chunk = new Uint8Array(fileData, position, length);\n",
              "      position += length;\n",
              "\n",
              "      const base64 = btoa(String.fromCharCode.apply(null, chunk));\n",
              "      yield {\n",
              "        response: {\n",
              "          action: 'append',\n",
              "          file: file.name,\n",
              "          data: base64,\n",
              "        },\n",
              "      };\n",
              "\n",
              "      let percentDone = fileData.byteLength === 0 ?\n",
              "          100 :\n",
              "          Math.round((position / fileData.byteLength) * 100);\n",
              "      percent.textContent = `${percentDone}% done`;\n",
              "\n",
              "    } while (position < fileData.byteLength);\n",
              "  }\n",
              "\n",
              "  // All done.\n",
              "  yield {\n",
              "    response: {\n",
              "      action: 'complete',\n",
              "    }\n",
              "  };\n",
              "}\n",
              "\n",
              "scope.google = scope.google || {};\n",
              "scope.google.colab = scope.google.colab || {};\n",
              "scope.google.colab._files = {\n",
              "  _uploadFiles,\n",
              "  _uploadFilesContinue,\n",
              "};\n",
              "})(self);\n",
              "</script> "
            ]
          },
          "metadata": {}
        },
        {
          "output_type": "stream",
          "name": "stdout",
          "text": [
            "Saving sales_data.csv to sales_data.csv\n"
          ]
        }
      ]
    },
    {
      "cell_type": "code",
      "execution_count": null,
      "metadata": {
        "id": "1bRHb-YwIRPP"
      },
      "outputs": [],
      "source": [
        "import numpy as np\n",
        "import pandas as pd\n",
        "import matplotlib.pyplot as plt\n",
        "import seaborn as sns\n",
        "%matplotlib inline\n",
        "\n",
        "data = pd.read_csv( 'sales_data.csv', parse_dates=['Date'])"
      ]
    },
    {
      "cell_type": "code",
      "execution_count": null,
      "metadata": {
        "id": "KjY_8szKKm4e",
        "colab": {
          "base_uri": "https://localhost:8080/"
        },
        "outputId": "ecf5851f-f19f-44f2-fa42-a658f095b647"
      },
      "outputs": [
        {
          "output_type": "stream",
          "name": "stdout",
          "text": [
            "        Date  Day     Month  Year  Customer_Age       Age_Group  \\\n",
            "0 2013-11-26   26  November  2013            19     Youth (<25)   \n",
            "1 2015-11-26   26  November  2015            19     Youth (<25)   \n",
            "2 2014-03-23   23     March  2014            49  Adults (35-64)   \n",
            "3 2016-03-23   23     March  2016            49  Adults (35-64)   \n",
            "4 2014-05-15   15       May  2014            47  Adults (35-64)   \n",
            "\n",
            "  Customer_Gender    Country             State Product_Category Sub_Category  \\\n",
            "0               M     Canada  British Columbia      Accessories   Bike Racks   \n",
            "1               M     Canada  British Columbia      Accessories   Bike Racks   \n",
            "2               M  Australia   New South Wales      Accessories   Bike Racks   \n",
            "3               M  Australia   New South Wales      Accessories   Bike Racks   \n",
            "4               F  Australia   New South Wales      Accessories   Bike Racks   \n",
            "\n",
            "               Product  Order_Quantity  Unit_Cost  Unit_Price  Profit  Cost  \\\n",
            "0  Hitch Rack - 4-Bike               8         45         120     590   360   \n",
            "1  Hitch Rack - 4-Bike               8         45         120     590   360   \n",
            "2  Hitch Rack - 4-Bike              23         45         120    1366  1035   \n",
            "3  Hitch Rack - 4-Bike              20         45         120    1188   900   \n",
            "4  Hitch Rack - 4-Bike               4         45         120     238   180   \n",
            "\n",
            "   Revenue  \n",
            "0      950  \n",
            "1      950  \n",
            "2     2401  \n",
            "3     2088  \n",
            "4      418  \n"
          ]
        }
      ],
      "source": [
        "print(data.head())"
      ]
    },
    {
      "cell_type": "code",
      "execution_count": null,
      "metadata": {
        "id": "4_oDnoW1JI9n",
        "colab": {
          "base_uri": "https://localhost:8080/"
        },
        "outputId": "07772176-a376-4711-ede2-3d526a976dba"
      },
      "outputs": [
        {
          "output_type": "stream",
          "name": "stdout",
          "text": [
            "<class 'pandas.core.frame.DataFrame'>\n",
            "RangeIndex: 113036 entries, 0 to 113035\n",
            "Data columns (total 18 columns):\n",
            " #   Column            Non-Null Count   Dtype         \n",
            "---  ------            --------------   -----         \n",
            " 0   Date              113036 non-null  datetime64[ns]\n",
            " 1   Day               113036 non-null  int64         \n",
            " 2   Month             113036 non-null  object        \n",
            " 3   Year              113036 non-null  int64         \n",
            " 4   Customer_Age      113036 non-null  int64         \n",
            " 5   Age_Group         113036 non-null  object        \n",
            " 6   Customer_Gender   113036 non-null  object        \n",
            " 7   Country           113036 non-null  object        \n",
            " 8   State             113036 non-null  object        \n",
            " 9   Product_Category  113036 non-null  object        \n",
            " 10  Sub_Category      113036 non-null  object        \n",
            " 11  Product           113036 non-null  object        \n",
            " 12  Order_Quantity    113036 non-null  int64         \n",
            " 13  Unit_Cost         113036 non-null  int64         \n",
            " 14  Unit_Price        113036 non-null  int64         \n",
            " 15  Profit            113036 non-null  int64         \n",
            " 16  Cost              113036 non-null  int64         \n",
            " 17  Revenue           113036 non-null  int64         \n",
            "dtypes: datetime64[ns](1), int64(9), object(8)\n",
            "memory usage: 15.5+ MB\n"
          ]
        }
      ],
      "source": [
        "data.info()"
      ]
    },
    {
      "cell_type": "code",
      "source": [
        "print(data.shape)"
      ],
      "metadata": {
        "colab": {
          "base_uri": "https://localhost:8080/"
        },
        "id": "-tTqsIlzaO2g",
        "outputId": "f9821ad7-74b3-4547-da0b-d75dd590d4ad"
      },
      "execution_count": null,
      "outputs": [
        {
          "output_type": "stream",
          "name": "stdout",
          "text": [
            "(113036, 18)\n",
            "<bound method DataFrame.info of              Date  Day     Month  Year  Customer_Age       Age_Group  \\\n",
            "0      2013-11-26   26  November  2013            19     Youth (<25)   \n",
            "1      2015-11-26   26  November  2015            19     Youth (<25)   \n",
            "2      2014-03-23   23     March  2014            49  Adults (35-64)   \n",
            "3      2016-03-23   23     March  2016            49  Adults (35-64)   \n",
            "4      2014-05-15   15       May  2014            47  Adults (35-64)   \n",
            "...           ...  ...       ...   ...           ...             ...   \n",
            "113031 2016-04-12   12     April  2016            41  Adults (35-64)   \n",
            "113032 2014-04-02    2     April  2014            18     Youth (<25)   \n",
            "113033 2016-04-02    2     April  2016            18     Youth (<25)   \n",
            "113034 2014-03-04    4     March  2014            37  Adults (35-64)   \n",
            "113035 2016-03-04    4     March  2016            37  Adults (35-64)   \n",
            "\n",
            "       Customer_Gender         Country             State Product_Category  \\\n",
            "0                    M          Canada  British Columbia      Accessories   \n",
            "1                    M          Canada  British Columbia      Accessories   \n",
            "2                    M       Australia   New South Wales      Accessories   \n",
            "3                    M       Australia   New South Wales      Accessories   \n",
            "4                    F       Australia   New South Wales      Accessories   \n",
            "...                ...             ...               ...              ...   \n",
            "113031               M  United Kingdom           England         Clothing   \n",
            "113032               M       Australia        Queensland         Clothing   \n",
            "113033               M       Australia        Queensland         Clothing   \n",
            "113034               F          France     Seine (Paris)         Clothing   \n",
            "113035               F          France     Seine (Paris)         Clothing   \n",
            "\n",
            "       Sub_Category              Product  Order_Quantity  Unit_Cost  \\\n",
            "0        Bike Racks  Hitch Rack - 4-Bike               8         45   \n",
            "1        Bike Racks  Hitch Rack - 4-Bike               8         45   \n",
            "2        Bike Racks  Hitch Rack - 4-Bike              23         45   \n",
            "3        Bike Racks  Hitch Rack - 4-Bike              20         45   \n",
            "4        Bike Racks  Hitch Rack - 4-Bike               4         45   \n",
            "...             ...                  ...             ...        ...   \n",
            "113031        Vests      Classic Vest, S               3         24   \n",
            "113032        Vests      Classic Vest, M              22         24   \n",
            "113033        Vests      Classic Vest, M              22         24   \n",
            "113034        Vests      Classic Vest, L              24         24   \n",
            "113035        Vests      Classic Vest, L              23         24   \n",
            "\n",
            "        Unit_Price  Profit  Cost  Revenue  \n",
            "0              120     590   360      950  \n",
            "1              120     590   360      950  \n",
            "2              120    1366  1035     2401  \n",
            "3              120    1188   900     2088  \n",
            "4              120     238   180      418  \n",
            "...            ...     ...   ...      ...  \n",
            "113031          64     112    72      184  \n",
            "113032          64     655   528     1183  \n",
            "113033          64     655   528     1183  \n",
            "113034          64     684   576     1260  \n",
            "113035          64     655   552     1207  \n",
            "\n",
            "[113036 rows x 18 columns]>\n"
          ]
        }
      ]
    },
    {
      "cell_type": "code",
      "source": [
        "print(data.info)"
      ],
      "metadata": {
        "colab": {
          "base_uri": "https://localhost:8080/"
        },
        "id": "qAXHlwrfaTeA",
        "outputId": "31cdc8fb-fc89-4c17-bf58-9a5c697ace16"
      },
      "execution_count": null,
      "outputs": [
        {
          "output_type": "stream",
          "name": "stdout",
          "text": [
            "<bound method DataFrame.info of              Date  Day     Month  Year  Customer_Age       Age_Group  \\\n",
            "0      2013-11-26   26  November  2013            19     Youth (<25)   \n",
            "1      2015-11-26   26  November  2015            19     Youth (<25)   \n",
            "2      2014-03-23   23     March  2014            49  Adults (35-64)   \n",
            "3      2016-03-23   23     March  2016            49  Adults (35-64)   \n",
            "4      2014-05-15   15       May  2014            47  Adults (35-64)   \n",
            "...           ...  ...       ...   ...           ...             ...   \n",
            "113031 2016-04-12   12     April  2016            41  Adults (35-64)   \n",
            "113032 2014-04-02    2     April  2014            18     Youth (<25)   \n",
            "113033 2016-04-02    2     April  2016            18     Youth (<25)   \n",
            "113034 2014-03-04    4     March  2014            37  Adults (35-64)   \n",
            "113035 2016-03-04    4     March  2016            37  Adults (35-64)   \n",
            "\n",
            "       Customer_Gender         Country             State Product_Category  \\\n",
            "0                    M          Canada  British Columbia      Accessories   \n",
            "1                    M          Canada  British Columbia      Accessories   \n",
            "2                    M       Australia   New South Wales      Accessories   \n",
            "3                    M       Australia   New South Wales      Accessories   \n",
            "4                    F       Australia   New South Wales      Accessories   \n",
            "...                ...             ...               ...              ...   \n",
            "113031               M  United Kingdom           England         Clothing   \n",
            "113032               M       Australia        Queensland         Clothing   \n",
            "113033               M       Australia        Queensland         Clothing   \n",
            "113034               F          France     Seine (Paris)         Clothing   \n",
            "113035               F          France     Seine (Paris)         Clothing   \n",
            "\n",
            "       Sub_Category              Product  Order_Quantity  Unit_Cost  \\\n",
            "0        Bike Racks  Hitch Rack - 4-Bike               8         45   \n",
            "1        Bike Racks  Hitch Rack - 4-Bike               8         45   \n",
            "2        Bike Racks  Hitch Rack - 4-Bike              23         45   \n",
            "3        Bike Racks  Hitch Rack - 4-Bike              20         45   \n",
            "4        Bike Racks  Hitch Rack - 4-Bike               4         45   \n",
            "...             ...                  ...             ...        ...   \n",
            "113031        Vests      Classic Vest, S               3         24   \n",
            "113032        Vests      Classic Vest, M              22         24   \n",
            "113033        Vests      Classic Vest, M              22         24   \n",
            "113034        Vests      Classic Vest, L              24         24   \n",
            "113035        Vests      Classic Vest, L              23         24   \n",
            "\n",
            "        Unit_Price  Profit  Cost  Revenue  \n",
            "0              120     590   360      950  \n",
            "1              120     590   360      950  \n",
            "2              120    1366  1035     2401  \n",
            "3              120    1188   900     2088  \n",
            "4              120     238   180      418  \n",
            "...            ...     ...   ...      ...  \n",
            "113031          64     112    72      184  \n",
            "113032          64     655   528     1183  \n",
            "113033          64     655   528     1183  \n",
            "113034          64     684   576     1260  \n",
            "113035          64     655   552     1207  \n",
            "\n",
            "[113036 rows x 18 columns]>\n"
          ]
        }
      ]
    },
    {
      "cell_type": "code",
      "execution_count": null,
      "metadata": {
        "id": "zIhdvV3kJe5J",
        "colab": {
          "base_uri": "https://localhost:8080/",
          "height": 730
        },
        "outputId": "393664c0-d8a5-425d-81f2-15769fa403e9"
      },
      "outputs": [
        {
          "output_type": "execute_result",
          "data": {
            "text/plain": [
              "<pandas.io.formats.style.Styler at 0x7b3eb083f5b0>"
            ],
            "text/html": [
              "<style type=\"text/css\">\n",
              "#T_71366_row0_col1, #T_71366_row1_col1, #T_71366_row2_col4, #T_71366_row2_col12, #T_71366_row2_col15, #T_71366_row2_col16, #T_71366_row2_col17, #T_71366_row3_col3, #T_71366_row3_col4, #T_71366_row5_col3, #T_71366_row7_col3, #T_71366_row9_col3 {\n",
              "  background-color: #00441b;\n",
              "  color: #f1f1f1;\n",
              "}\n",
              "#T_71366_row0_col3, #T_71366_row0_col4, #T_71366_row0_col13, #T_71366_row0_col14, #T_71366_row1_col4, #T_71366_row1_col13, #T_71366_row1_col14, #T_71366_row2_col13, #T_71366_row2_col14, #T_71366_row3_col13, #T_71366_row3_col14, #T_71366_row4_col1, #T_71366_row4_col13, #T_71366_row4_col14, #T_71366_row5_col1, #T_71366_row5_col13, #T_71366_row5_col14, #T_71366_row6_col13, #T_71366_row6_col14, #T_71366_row7_col12, #T_71366_row7_col13, #T_71366_row7_col14, #T_71366_row7_col15, #T_71366_row7_col16, #T_71366_row7_col17, #T_71366_row8_col13, #T_71366_row8_col14, #T_71366_row9_col13, #T_71366_row9_col14 {\n",
              "  background-color: #f7fcfd;\n",
              "  color: #000000;\n",
              "}\n",
              "#T_71366_row0_col12, #T_71366_row0_col16, #T_71366_row1_col12, #T_71366_row1_col16 {\n",
              "  background-color: #bde6de;\n",
              "  color: #000000;\n",
              "}\n",
              "#T_71366_row0_col15, #T_71366_row1_col15 {\n",
              "  background-color: #94d6c5;\n",
              "  color: #000000;\n",
              "}\n",
              "#T_71366_row0_col17, #T_71366_row1_col17 {\n",
              "  background-color: #a7ddd1;\n",
              "  color: #000000;\n",
              "}\n",
              "#T_71366_row1_col3 {\n",
              "  background-color: #37a266;\n",
              "  color: #f1f1f1;\n",
              "}\n",
              "#T_71366_row2_col1, #T_71366_row3_col1 {\n",
              "  background-color: #28914d;\n",
              "  color: #f1f1f1;\n",
              "}\n",
              "#T_71366_row2_col3, #T_71366_row4_col3, #T_71366_row6_col3, #T_71366_row8_col3 {\n",
              "  background-color: #aadfd3;\n",
              "  color: #000000;\n",
              "}\n",
              "#T_71366_row3_col12, #T_71366_row3_col16, #T_71366_row3_col17, #T_71366_row8_col17 {\n",
              "  background-color: #05712f;\n",
              "  color: #f1f1f1;\n",
              "}\n",
              "#T_71366_row3_col15 {\n",
              "  background-color: #03702e;\n",
              "  color: #f1f1f1;\n",
              "}\n",
              "#T_71366_row4_col4, #T_71366_row5_col4, #T_71366_row6_col4, #T_71366_row7_col4 {\n",
              "  background-color: #005a24;\n",
              "  color: #f1f1f1;\n",
              "}\n",
              "#T_71366_row4_col12, #T_71366_row4_col16, #T_71366_row6_col12, #T_71366_row6_col16 {\n",
              "  background-color: #e9f7fa;\n",
              "  color: #000000;\n",
              "}\n",
              "#T_71366_row4_col15, #T_71366_row4_col17 {\n",
              "  background-color: #e8f6fa;\n",
              "  color: #000000;\n",
              "}\n",
              "#T_71366_row5_col12, #T_71366_row5_col16 {\n",
              "  background-color: #e2f4f7;\n",
              "  color: #000000;\n",
              "}\n",
              "#T_71366_row5_col15 {\n",
              "  background-color: #dff3f5;\n",
              "  color: #000000;\n",
              "}\n",
              "#T_71366_row5_col17 {\n",
              "  background-color: #e0f3f5;\n",
              "  color: #000000;\n",
              "}\n",
              "#T_71366_row6_col1, #T_71366_row7_col1, #T_71366_row8_col1, #T_71366_row9_col1 {\n",
              "  background-color: #3fab72;\n",
              "  color: #f1f1f1;\n",
              "}\n",
              "#T_71366_row6_col15 {\n",
              "  background-color: #ecf8fa;\n",
              "  color: #000000;\n",
              "}\n",
              "#T_71366_row6_col17 {\n",
              "  background-color: #ebf7fa;\n",
              "  color: #000000;\n",
              "}\n",
              "#T_71366_row8_col4, #T_71366_row9_col4 {\n",
              "  background-color: #5cbd98;\n",
              "  color: #f1f1f1;\n",
              "}\n",
              "#T_71366_row8_col12, #T_71366_row8_col16 {\n",
              "  background-color: #005321;\n",
              "  color: #f1f1f1;\n",
              "}\n",
              "#T_71366_row8_col15 {\n",
              "  background-color: #18823d;\n",
              "  color: #f1f1f1;\n",
              "}\n",
              "#T_71366_row9_col12, #T_71366_row9_col16 {\n",
              "  background-color: #006328;\n",
              "  color: #f1f1f1;\n",
              "}\n",
              "#T_71366_row9_col15 {\n",
              "  background-color: #238b45;\n",
              "  color: #f1f1f1;\n",
              "}\n",
              "#T_71366_row9_col17 {\n",
              "  background-color: #117b38;\n",
              "  color: #f1f1f1;\n",
              "}\n",
              "</style>\n",
              "<table id=\"T_71366\" class=\"dataframe\">\n",
              "  <thead>\n",
              "    <tr>\n",
              "      <th class=\"blank level0\" >&nbsp;</th>\n",
              "      <th id=\"T_71366_level0_col0\" class=\"col_heading level0 col0\" >Date</th>\n",
              "      <th id=\"T_71366_level0_col1\" class=\"col_heading level0 col1\" >Day</th>\n",
              "      <th id=\"T_71366_level0_col2\" class=\"col_heading level0 col2\" >Month</th>\n",
              "      <th id=\"T_71366_level0_col3\" class=\"col_heading level0 col3\" >Year</th>\n",
              "      <th id=\"T_71366_level0_col4\" class=\"col_heading level0 col4\" >Customer_Age</th>\n",
              "      <th id=\"T_71366_level0_col5\" class=\"col_heading level0 col5\" >Age_Group</th>\n",
              "      <th id=\"T_71366_level0_col6\" class=\"col_heading level0 col6\" >Customer_Gender</th>\n",
              "      <th id=\"T_71366_level0_col7\" class=\"col_heading level0 col7\" >Country</th>\n",
              "      <th id=\"T_71366_level0_col8\" class=\"col_heading level0 col8\" >State</th>\n",
              "      <th id=\"T_71366_level0_col9\" class=\"col_heading level0 col9\" >Product_Category</th>\n",
              "      <th id=\"T_71366_level0_col10\" class=\"col_heading level0 col10\" >Sub_Category</th>\n",
              "      <th id=\"T_71366_level0_col11\" class=\"col_heading level0 col11\" >Product</th>\n",
              "      <th id=\"T_71366_level0_col12\" class=\"col_heading level0 col12\" >Order_Quantity</th>\n",
              "      <th id=\"T_71366_level0_col13\" class=\"col_heading level0 col13\" >Unit_Cost</th>\n",
              "      <th id=\"T_71366_level0_col14\" class=\"col_heading level0 col14\" >Unit_Price</th>\n",
              "      <th id=\"T_71366_level0_col15\" class=\"col_heading level0 col15\" >Profit</th>\n",
              "      <th id=\"T_71366_level0_col16\" class=\"col_heading level0 col16\" >Cost</th>\n",
              "      <th id=\"T_71366_level0_col17\" class=\"col_heading level0 col17\" >Revenue</th>\n",
              "    </tr>\n",
              "  </thead>\n",
              "  <tbody>\n",
              "    <tr>\n",
              "      <th id=\"T_71366_level0_row0\" class=\"row_heading level0 row0\" >0</th>\n",
              "      <td id=\"T_71366_row0_col0\" class=\"data row0 col0\" >2013-11-26 00:00:00</td>\n",
              "      <td id=\"T_71366_row0_col1\" class=\"data row0 col1\" >26</td>\n",
              "      <td id=\"T_71366_row0_col2\" class=\"data row0 col2\" >November</td>\n",
              "      <td id=\"T_71366_row0_col3\" class=\"data row0 col3\" >2013</td>\n",
              "      <td id=\"T_71366_row0_col4\" class=\"data row0 col4\" >19</td>\n",
              "      <td id=\"T_71366_row0_col5\" class=\"data row0 col5\" >Youth (<25)</td>\n",
              "      <td id=\"T_71366_row0_col6\" class=\"data row0 col6\" >M</td>\n",
              "      <td id=\"T_71366_row0_col7\" class=\"data row0 col7\" >Canada</td>\n",
              "      <td id=\"T_71366_row0_col8\" class=\"data row0 col8\" >British Columbia</td>\n",
              "      <td id=\"T_71366_row0_col9\" class=\"data row0 col9\" >Accessories</td>\n",
              "      <td id=\"T_71366_row0_col10\" class=\"data row0 col10\" >Bike Racks</td>\n",
              "      <td id=\"T_71366_row0_col11\" class=\"data row0 col11\" >Hitch Rack - 4-Bike</td>\n",
              "      <td id=\"T_71366_row0_col12\" class=\"data row0 col12\" >8</td>\n",
              "      <td id=\"T_71366_row0_col13\" class=\"data row0 col13\" >45</td>\n",
              "      <td id=\"T_71366_row0_col14\" class=\"data row0 col14\" >120</td>\n",
              "      <td id=\"T_71366_row0_col15\" class=\"data row0 col15\" >590</td>\n",
              "      <td id=\"T_71366_row0_col16\" class=\"data row0 col16\" >360</td>\n",
              "      <td id=\"T_71366_row0_col17\" class=\"data row0 col17\" >950</td>\n",
              "    </tr>\n",
              "    <tr>\n",
              "      <th id=\"T_71366_level0_row1\" class=\"row_heading level0 row1\" >1</th>\n",
              "      <td id=\"T_71366_row1_col0\" class=\"data row1 col0\" >2015-11-26 00:00:00</td>\n",
              "      <td id=\"T_71366_row1_col1\" class=\"data row1 col1\" >26</td>\n",
              "      <td id=\"T_71366_row1_col2\" class=\"data row1 col2\" >November</td>\n",
              "      <td id=\"T_71366_row1_col3\" class=\"data row1 col3\" >2015</td>\n",
              "      <td id=\"T_71366_row1_col4\" class=\"data row1 col4\" >19</td>\n",
              "      <td id=\"T_71366_row1_col5\" class=\"data row1 col5\" >Youth (<25)</td>\n",
              "      <td id=\"T_71366_row1_col6\" class=\"data row1 col6\" >M</td>\n",
              "      <td id=\"T_71366_row1_col7\" class=\"data row1 col7\" >Canada</td>\n",
              "      <td id=\"T_71366_row1_col8\" class=\"data row1 col8\" >British Columbia</td>\n",
              "      <td id=\"T_71366_row1_col9\" class=\"data row1 col9\" >Accessories</td>\n",
              "      <td id=\"T_71366_row1_col10\" class=\"data row1 col10\" >Bike Racks</td>\n",
              "      <td id=\"T_71366_row1_col11\" class=\"data row1 col11\" >Hitch Rack - 4-Bike</td>\n",
              "      <td id=\"T_71366_row1_col12\" class=\"data row1 col12\" >8</td>\n",
              "      <td id=\"T_71366_row1_col13\" class=\"data row1 col13\" >45</td>\n",
              "      <td id=\"T_71366_row1_col14\" class=\"data row1 col14\" >120</td>\n",
              "      <td id=\"T_71366_row1_col15\" class=\"data row1 col15\" >590</td>\n",
              "      <td id=\"T_71366_row1_col16\" class=\"data row1 col16\" >360</td>\n",
              "      <td id=\"T_71366_row1_col17\" class=\"data row1 col17\" >950</td>\n",
              "    </tr>\n",
              "    <tr>\n",
              "      <th id=\"T_71366_level0_row2\" class=\"row_heading level0 row2\" >2</th>\n",
              "      <td id=\"T_71366_row2_col0\" class=\"data row2 col0\" >2014-03-23 00:00:00</td>\n",
              "      <td id=\"T_71366_row2_col1\" class=\"data row2 col1\" >23</td>\n",
              "      <td id=\"T_71366_row2_col2\" class=\"data row2 col2\" >March</td>\n",
              "      <td id=\"T_71366_row2_col3\" class=\"data row2 col3\" >2014</td>\n",
              "      <td id=\"T_71366_row2_col4\" class=\"data row2 col4\" >49</td>\n",
              "      <td id=\"T_71366_row2_col5\" class=\"data row2 col5\" >Adults (35-64)</td>\n",
              "      <td id=\"T_71366_row2_col6\" class=\"data row2 col6\" >M</td>\n",
              "      <td id=\"T_71366_row2_col7\" class=\"data row2 col7\" >Australia</td>\n",
              "      <td id=\"T_71366_row2_col8\" class=\"data row2 col8\" >New South Wales</td>\n",
              "      <td id=\"T_71366_row2_col9\" class=\"data row2 col9\" >Accessories</td>\n",
              "      <td id=\"T_71366_row2_col10\" class=\"data row2 col10\" >Bike Racks</td>\n",
              "      <td id=\"T_71366_row2_col11\" class=\"data row2 col11\" >Hitch Rack - 4-Bike</td>\n",
              "      <td id=\"T_71366_row2_col12\" class=\"data row2 col12\" >23</td>\n",
              "      <td id=\"T_71366_row2_col13\" class=\"data row2 col13\" >45</td>\n",
              "      <td id=\"T_71366_row2_col14\" class=\"data row2 col14\" >120</td>\n",
              "      <td id=\"T_71366_row2_col15\" class=\"data row2 col15\" >1366</td>\n",
              "      <td id=\"T_71366_row2_col16\" class=\"data row2 col16\" >1035</td>\n",
              "      <td id=\"T_71366_row2_col17\" class=\"data row2 col17\" >2401</td>\n",
              "    </tr>\n",
              "    <tr>\n",
              "      <th id=\"T_71366_level0_row3\" class=\"row_heading level0 row3\" >3</th>\n",
              "      <td id=\"T_71366_row3_col0\" class=\"data row3 col0\" >2016-03-23 00:00:00</td>\n",
              "      <td id=\"T_71366_row3_col1\" class=\"data row3 col1\" >23</td>\n",
              "      <td id=\"T_71366_row3_col2\" class=\"data row3 col2\" >March</td>\n",
              "      <td id=\"T_71366_row3_col3\" class=\"data row3 col3\" >2016</td>\n",
              "      <td id=\"T_71366_row3_col4\" class=\"data row3 col4\" >49</td>\n",
              "      <td id=\"T_71366_row3_col5\" class=\"data row3 col5\" >Adults (35-64)</td>\n",
              "      <td id=\"T_71366_row3_col6\" class=\"data row3 col6\" >M</td>\n",
              "      <td id=\"T_71366_row3_col7\" class=\"data row3 col7\" >Australia</td>\n",
              "      <td id=\"T_71366_row3_col8\" class=\"data row3 col8\" >New South Wales</td>\n",
              "      <td id=\"T_71366_row3_col9\" class=\"data row3 col9\" >Accessories</td>\n",
              "      <td id=\"T_71366_row3_col10\" class=\"data row3 col10\" >Bike Racks</td>\n",
              "      <td id=\"T_71366_row3_col11\" class=\"data row3 col11\" >Hitch Rack - 4-Bike</td>\n",
              "      <td id=\"T_71366_row3_col12\" class=\"data row3 col12\" >20</td>\n",
              "      <td id=\"T_71366_row3_col13\" class=\"data row3 col13\" >45</td>\n",
              "      <td id=\"T_71366_row3_col14\" class=\"data row3 col14\" >120</td>\n",
              "      <td id=\"T_71366_row3_col15\" class=\"data row3 col15\" >1188</td>\n",
              "      <td id=\"T_71366_row3_col16\" class=\"data row3 col16\" >900</td>\n",
              "      <td id=\"T_71366_row3_col17\" class=\"data row3 col17\" >2088</td>\n",
              "    </tr>\n",
              "    <tr>\n",
              "      <th id=\"T_71366_level0_row4\" class=\"row_heading level0 row4\" >4</th>\n",
              "      <td id=\"T_71366_row4_col0\" class=\"data row4 col0\" >2014-05-15 00:00:00</td>\n",
              "      <td id=\"T_71366_row4_col1\" class=\"data row4 col1\" >15</td>\n",
              "      <td id=\"T_71366_row4_col2\" class=\"data row4 col2\" >May</td>\n",
              "      <td id=\"T_71366_row4_col3\" class=\"data row4 col3\" >2014</td>\n",
              "      <td id=\"T_71366_row4_col4\" class=\"data row4 col4\" >47</td>\n",
              "      <td id=\"T_71366_row4_col5\" class=\"data row4 col5\" >Adults (35-64)</td>\n",
              "      <td id=\"T_71366_row4_col6\" class=\"data row4 col6\" >F</td>\n",
              "      <td id=\"T_71366_row4_col7\" class=\"data row4 col7\" >Australia</td>\n",
              "      <td id=\"T_71366_row4_col8\" class=\"data row4 col8\" >New South Wales</td>\n",
              "      <td id=\"T_71366_row4_col9\" class=\"data row4 col9\" >Accessories</td>\n",
              "      <td id=\"T_71366_row4_col10\" class=\"data row4 col10\" >Bike Racks</td>\n",
              "      <td id=\"T_71366_row4_col11\" class=\"data row4 col11\" >Hitch Rack - 4-Bike</td>\n",
              "      <td id=\"T_71366_row4_col12\" class=\"data row4 col12\" >4</td>\n",
              "      <td id=\"T_71366_row4_col13\" class=\"data row4 col13\" >45</td>\n",
              "      <td id=\"T_71366_row4_col14\" class=\"data row4 col14\" >120</td>\n",
              "      <td id=\"T_71366_row4_col15\" class=\"data row4 col15\" >238</td>\n",
              "      <td id=\"T_71366_row4_col16\" class=\"data row4 col16\" >180</td>\n",
              "      <td id=\"T_71366_row4_col17\" class=\"data row4 col17\" >418</td>\n",
              "    </tr>\n",
              "    <tr>\n",
              "      <th id=\"T_71366_level0_row5\" class=\"row_heading level0 row5\" >5</th>\n",
              "      <td id=\"T_71366_row5_col0\" class=\"data row5 col0\" >2016-05-15 00:00:00</td>\n",
              "      <td id=\"T_71366_row5_col1\" class=\"data row5 col1\" >15</td>\n",
              "      <td id=\"T_71366_row5_col2\" class=\"data row5 col2\" >May</td>\n",
              "      <td id=\"T_71366_row5_col3\" class=\"data row5 col3\" >2016</td>\n",
              "      <td id=\"T_71366_row5_col4\" class=\"data row5 col4\" >47</td>\n",
              "      <td id=\"T_71366_row5_col5\" class=\"data row5 col5\" >Adults (35-64)</td>\n",
              "      <td id=\"T_71366_row5_col6\" class=\"data row5 col6\" >F</td>\n",
              "      <td id=\"T_71366_row5_col7\" class=\"data row5 col7\" >Australia</td>\n",
              "      <td id=\"T_71366_row5_col8\" class=\"data row5 col8\" >New South Wales</td>\n",
              "      <td id=\"T_71366_row5_col9\" class=\"data row5 col9\" >Accessories</td>\n",
              "      <td id=\"T_71366_row5_col10\" class=\"data row5 col10\" >Bike Racks</td>\n",
              "      <td id=\"T_71366_row5_col11\" class=\"data row5 col11\" >Hitch Rack - 4-Bike</td>\n",
              "      <td id=\"T_71366_row5_col12\" class=\"data row5 col12\" >5</td>\n",
              "      <td id=\"T_71366_row5_col13\" class=\"data row5 col13\" >45</td>\n",
              "      <td id=\"T_71366_row5_col14\" class=\"data row5 col14\" >120</td>\n",
              "      <td id=\"T_71366_row5_col15\" class=\"data row5 col15\" >297</td>\n",
              "      <td id=\"T_71366_row5_col16\" class=\"data row5 col16\" >225</td>\n",
              "      <td id=\"T_71366_row5_col17\" class=\"data row5 col17\" >522</td>\n",
              "    </tr>\n",
              "    <tr>\n",
              "      <th id=\"T_71366_level0_row6\" class=\"row_heading level0 row6\" >6</th>\n",
              "      <td id=\"T_71366_row6_col0\" class=\"data row6 col0\" >2014-05-22 00:00:00</td>\n",
              "      <td id=\"T_71366_row6_col1\" class=\"data row6 col1\" >22</td>\n",
              "      <td id=\"T_71366_row6_col2\" class=\"data row6 col2\" >May</td>\n",
              "      <td id=\"T_71366_row6_col3\" class=\"data row6 col3\" >2014</td>\n",
              "      <td id=\"T_71366_row6_col4\" class=\"data row6 col4\" >47</td>\n",
              "      <td id=\"T_71366_row6_col5\" class=\"data row6 col5\" >Adults (35-64)</td>\n",
              "      <td id=\"T_71366_row6_col6\" class=\"data row6 col6\" >F</td>\n",
              "      <td id=\"T_71366_row6_col7\" class=\"data row6 col7\" >Australia</td>\n",
              "      <td id=\"T_71366_row6_col8\" class=\"data row6 col8\" >Victoria</td>\n",
              "      <td id=\"T_71366_row6_col9\" class=\"data row6 col9\" >Accessories</td>\n",
              "      <td id=\"T_71366_row6_col10\" class=\"data row6 col10\" >Bike Racks</td>\n",
              "      <td id=\"T_71366_row6_col11\" class=\"data row6 col11\" >Hitch Rack - 4-Bike</td>\n",
              "      <td id=\"T_71366_row6_col12\" class=\"data row6 col12\" >4</td>\n",
              "      <td id=\"T_71366_row6_col13\" class=\"data row6 col13\" >45</td>\n",
              "      <td id=\"T_71366_row6_col14\" class=\"data row6 col14\" >120</td>\n",
              "      <td id=\"T_71366_row6_col15\" class=\"data row6 col15\" >199</td>\n",
              "      <td id=\"T_71366_row6_col16\" class=\"data row6 col16\" >180</td>\n",
              "      <td id=\"T_71366_row6_col17\" class=\"data row6 col17\" >379</td>\n",
              "    </tr>\n",
              "    <tr>\n",
              "      <th id=\"T_71366_level0_row7\" class=\"row_heading level0 row7\" >7</th>\n",
              "      <td id=\"T_71366_row7_col0\" class=\"data row7 col0\" >2016-05-22 00:00:00</td>\n",
              "      <td id=\"T_71366_row7_col1\" class=\"data row7 col1\" >22</td>\n",
              "      <td id=\"T_71366_row7_col2\" class=\"data row7 col2\" >May</td>\n",
              "      <td id=\"T_71366_row7_col3\" class=\"data row7 col3\" >2016</td>\n",
              "      <td id=\"T_71366_row7_col4\" class=\"data row7 col4\" >47</td>\n",
              "      <td id=\"T_71366_row7_col5\" class=\"data row7 col5\" >Adults (35-64)</td>\n",
              "      <td id=\"T_71366_row7_col6\" class=\"data row7 col6\" >F</td>\n",
              "      <td id=\"T_71366_row7_col7\" class=\"data row7 col7\" >Australia</td>\n",
              "      <td id=\"T_71366_row7_col8\" class=\"data row7 col8\" >Victoria</td>\n",
              "      <td id=\"T_71366_row7_col9\" class=\"data row7 col9\" >Accessories</td>\n",
              "      <td id=\"T_71366_row7_col10\" class=\"data row7 col10\" >Bike Racks</td>\n",
              "      <td id=\"T_71366_row7_col11\" class=\"data row7 col11\" >Hitch Rack - 4-Bike</td>\n",
              "      <td id=\"T_71366_row7_col12\" class=\"data row7 col12\" >2</td>\n",
              "      <td id=\"T_71366_row7_col13\" class=\"data row7 col13\" >45</td>\n",
              "      <td id=\"T_71366_row7_col14\" class=\"data row7 col14\" >120</td>\n",
              "      <td id=\"T_71366_row7_col15\" class=\"data row7 col15\" >100</td>\n",
              "      <td id=\"T_71366_row7_col16\" class=\"data row7 col16\" >90</td>\n",
              "      <td id=\"T_71366_row7_col17\" class=\"data row7 col17\" >190</td>\n",
              "    </tr>\n",
              "    <tr>\n",
              "      <th id=\"T_71366_level0_row8\" class=\"row_heading level0 row8\" >8</th>\n",
              "      <td id=\"T_71366_row8_col0\" class=\"data row8 col0\" >2014-02-22 00:00:00</td>\n",
              "      <td id=\"T_71366_row8_col1\" class=\"data row8 col1\" >22</td>\n",
              "      <td id=\"T_71366_row8_col2\" class=\"data row8 col2\" >February</td>\n",
              "      <td id=\"T_71366_row8_col3\" class=\"data row8 col3\" >2014</td>\n",
              "      <td id=\"T_71366_row8_col4\" class=\"data row8 col4\" >35</td>\n",
              "      <td id=\"T_71366_row8_col5\" class=\"data row8 col5\" >Adults (35-64)</td>\n",
              "      <td id=\"T_71366_row8_col6\" class=\"data row8 col6\" >M</td>\n",
              "      <td id=\"T_71366_row8_col7\" class=\"data row8 col7\" >Australia</td>\n",
              "      <td id=\"T_71366_row8_col8\" class=\"data row8 col8\" >Victoria</td>\n",
              "      <td id=\"T_71366_row8_col9\" class=\"data row8 col9\" >Accessories</td>\n",
              "      <td id=\"T_71366_row8_col10\" class=\"data row8 col10\" >Bike Racks</td>\n",
              "      <td id=\"T_71366_row8_col11\" class=\"data row8 col11\" >Hitch Rack - 4-Bike</td>\n",
              "      <td id=\"T_71366_row8_col12\" class=\"data row8 col12\" >22</td>\n",
              "      <td id=\"T_71366_row8_col13\" class=\"data row8 col13\" >45</td>\n",
              "      <td id=\"T_71366_row8_col14\" class=\"data row8 col14\" >120</td>\n",
              "      <td id=\"T_71366_row8_col15\" class=\"data row8 col15\" >1096</td>\n",
              "      <td id=\"T_71366_row8_col16\" class=\"data row8 col16\" >990</td>\n",
              "      <td id=\"T_71366_row8_col17\" class=\"data row8 col17\" >2086</td>\n",
              "    </tr>\n",
              "    <tr>\n",
              "      <th id=\"T_71366_level0_row9\" class=\"row_heading level0 row9\" >9</th>\n",
              "      <td id=\"T_71366_row9_col0\" class=\"data row9 col0\" >2016-02-22 00:00:00</td>\n",
              "      <td id=\"T_71366_row9_col1\" class=\"data row9 col1\" >22</td>\n",
              "      <td id=\"T_71366_row9_col2\" class=\"data row9 col2\" >February</td>\n",
              "      <td id=\"T_71366_row9_col3\" class=\"data row9 col3\" >2016</td>\n",
              "      <td id=\"T_71366_row9_col4\" class=\"data row9 col4\" >35</td>\n",
              "      <td id=\"T_71366_row9_col5\" class=\"data row9 col5\" >Adults (35-64)</td>\n",
              "      <td id=\"T_71366_row9_col6\" class=\"data row9 col6\" >M</td>\n",
              "      <td id=\"T_71366_row9_col7\" class=\"data row9 col7\" >Australia</td>\n",
              "      <td id=\"T_71366_row9_col8\" class=\"data row9 col8\" >Victoria</td>\n",
              "      <td id=\"T_71366_row9_col9\" class=\"data row9 col9\" >Accessories</td>\n",
              "      <td id=\"T_71366_row9_col10\" class=\"data row9 col10\" >Bike Racks</td>\n",
              "      <td id=\"T_71366_row9_col11\" class=\"data row9 col11\" >Hitch Rack - 4-Bike</td>\n",
              "      <td id=\"T_71366_row9_col12\" class=\"data row9 col12\" >21</td>\n",
              "      <td id=\"T_71366_row9_col13\" class=\"data row9 col13\" >45</td>\n",
              "      <td id=\"T_71366_row9_col14\" class=\"data row9 col14\" >120</td>\n",
              "      <td id=\"T_71366_row9_col15\" class=\"data row9 col15\" >1046</td>\n",
              "      <td id=\"T_71366_row9_col16\" class=\"data row9 col16\" >945</td>\n",
              "      <td id=\"T_71366_row9_col17\" class=\"data row9 col17\" >1991</td>\n",
              "    </tr>\n",
              "  </tbody>\n",
              "</table>\n"
            ]
          },
          "metadata": {},
          "execution_count": 20
        }
      ],
      "source": [
        "format_dict = { \"Mes\" : \"{:%m-%Y}\"} #Simplified format dictionary with values that do make sense for our data\n",
        "data.head(10).style.format(format_dict).background_gradient(cmap= \"BuGn\")"
      ]
    },
    {
      "cell_type": "code",
      "execution_count": null,
      "metadata": {
        "id": "QObREVrqJf6N",
        "colab": {
          "base_uri": "https://localhost:8080/",
          "height": 447
        },
        "outputId": "6e5fa0f0-cc5d-4d92-9526-b521971842f0"
      },
      "outputs": [
        {
          "output_type": "execute_result",
          "data": {
            "text/plain": [
              "<matplotlib.collections.PathCollection at 0x7b3e7e8fa950>"
            ]
          },
          "metadata": {},
          "execution_count": 21
        },
        {
          "output_type": "display_data",
          "data": {
            "text/plain": [
              "<Figure size 640x480 with 1 Axes>"
            ],
            "image/png": "[encoded data removed]"
          },
          "metadata": {}
        }
      ],
      "source": [
        "plt.scatter(x=data[\"Profit\"], y=data[\"Cost\"])"
      ]
    },
    {
      "cell_type": "code",
      "execution_count": null,
      "metadata": {
        "id": "VhScGq1HJlDV",
        "colab": {
          "base_uri": "https://localhost:8080/",
          "height": 516
        },
        "outputId": "e5ccb311-c626-4e0c-a38c-8a6c2f7fb277"
      },
      "outputs": [
        {
          "output_type": "execute_result",
          "data": {
            "text/plain": [
              "<Axes: ylabel='Age_Group'>"
            ]
          },
          "metadata": {},
          "execution_count": 22
        },
        {
          "output_type": "display_data",
          "data": {
            "text/plain": [
              "<Figure size 600x600 with 1 Axes>"
            ],
            "image/png": "[encoded data removed]"
          },
          "metadata": {}
        }
      ],
      "source": [
        "data[\"Age_Group\"].value_counts().plot(kind=\"pie\", figsize=(6,6))"
      ]
    },
    {
      "cell_type": "code",
      "execution_count": null,
      "metadata": {
        "id": "PGIr1tnYJnd8",
        "colab": {
          "base_uri": "https://localhost:8080/",
          "height": 619
        },
        "outputId": "4ef18e28-8525-4ed0-9530-0fab9f236531"
      },
      "outputs": [
        {
          "output_type": "display_data",
          "data": {
            "text/plain": [
              "<Figure size 1400x600 with 1 Axes>"
            ],
            "image/png": "[encoded data removed]"
          },
          "metadata": {}
        }
      ],
      "source": [
        "ax = data[\"Country\"].value_counts().plot(kind=\"bar\", figsize=(14,6))"
      ]
    },
    {
      "cell_type": "code",
      "execution_count": null,
      "metadata": {
        "id": "9dOOjj--JscL",
        "colab": {
          "base_uri": "https://localhost:8080/",
          "height": 657
        },
        "outputId": "e69ed440-9f26-4b81-ee29-a3bdd63a682f"
      },
      "outputs": [
        {
          "output_type": "stream",
          "name": "stderr",
          "text": [
            "<ipython-input-24-85fa5e97d066>:1: UserWarning: \n",
            "\n",
            "`distplot` is a deprecated function and will be removed in seaborn v0.14.0.\n",
            "\n",
            "Please adapt your code to use either `displot` (a figure-level function with\n",
            "similar flexibility) or `histplot` (an axes-level function for histograms).\n",
            "\n",
            "For a guide to updating your code to use the new functions, please see\n",
            "https://gist.github.com/mwaskom/de44147ed2974457ad6372750bbe5751\n",
            "\n",
            "  sns.distplot(data[\"Revenue\"], bins=10, kde=True )\n"
          ]
        },
        {
          "output_type": "execute_result",
          "data": {
            "text/plain": [
              "<Axes: xlabel='Revenue', ylabel='Density'>"
            ]
          },
          "metadata": {},
          "execution_count": 24
        },
        {
          "output_type": "display_data",
          "data": {
            "text/plain": [
              "<Figure size 640x480 with 1 Axes>"
            ],
            "image/png": "[encoded data removed]"
          },
          "metadata": {}
        }
      ],
      "source": [
        "sns.distplot(data[\"Revenue\"], bins=10, kde=True )"
      ]
    },
    {
      "cell_type": "code",
      "source": [],
      "metadata": {
        "id": "iUGH4YLLcmFb"
      },
      "execution_count": null,
      "outputs": []
    }
  ],
  "metadata": {
    "colab": {
      "provenance": [],
      "authorship_tag": "ABX9TyOkohKGpt/+JVdTpy++izJm",
      "include_colab_link": true
    },
    "kernelspec": {
      "display_name": "Python 3",
      "name": "python3"
    },
    "language_info": {
      "name": "python"
    }
  },
  "nbformat": 4,
  "nbformat_minor": 0
}